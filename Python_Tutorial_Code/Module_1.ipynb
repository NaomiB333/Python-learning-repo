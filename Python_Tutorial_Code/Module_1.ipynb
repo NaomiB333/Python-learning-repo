{
 "cells": [
  {
   "cell_type": "code",
   "execution_count": 7,
   "metadata": {},
   "outputs": [
    {
     "name": "stdout",
     "output_type": "stream",
     "text": [
      "15\n"
     ]
    }
   ],
   "source": [
    "x = 5\n",
    "y = 10\n",
    "sum_1_2 = x + y\n",
    "print(sum_1_2)\n",
    "\n",
    "\n"
   ]
  },
  {
   "cell_type": "code",
   "execution_count": 14,
   "metadata": {},
   "outputs": [
    {
     "name": "stdout",
     "output_type": "stream",
     "text": [
      "<class 'float'>\n"
     ]
    }
   ],
   "source": [
    "x = 10.0\n",
    "y = 5\n",
    "z = x + y\n",
    "print(type(z))\n",
    "     \n"
   ]
  },
  {
   "cell_type": "code",
   "execution_count": 1,
   "metadata": {},
   "outputs": [
    {
     "name": "stdout",
     "output_type": "stream",
     "text": [
      "20\n"
     ]
    }
   ],
   "source": [
    "x = 2\n",
    "y = 10\n",
    "z = y * x\n",
    "print(z)\n"
   ]
  },
  {
   "cell_type": "code",
   "execution_count": 3,
   "metadata": {},
   "outputs": [
    {
     "name": "stdout",
     "output_type": "stream",
     "text": [
      "12.56\n"
     ]
    }
   ],
   "source": [
    "ci = 2\n",
    "pi = 3.14\n",
    "ar = pi * ci ** 2\n",
    "print(ar)"
   ]
  },
  {
   "cell_type": "code",
   "execution_count": 9,
   "metadata": {},
   "outputs": [
    {
     "name": "stdout",
     "output_type": "stream",
     "text": [
      "My name is Naomi and I am the teacher\n"
     ]
    }
   ],
   "source": [
    "name = \"Naomi\"\n",
    "job = \"teacher\"\n",
    "longer_string = \"My name is \" + name + \" and I am the \" + job\n",
    "print(longer_string)\n",
    "\n",
    "phrase = f\"My name is {name} and I am the {job}.\"\n"
   ]
  },
  {
   "cell_type": "code",
   "execution_count": 14,
   "metadata": {},
   "outputs": [
    {
     "name": "stdout",
     "output_type": "stream",
     "text": [
      "My name is Naomi and I am an Intelligence Analyst\n",
      "My name is Naomi and I am an Intelligence Analyst.\n"
     ]
    }
   ],
   "source": [
    "name = \"Naomi\"\n",
    "job = \"Intelligence Analyst\"\n",
    "longer_string = \"My name is \" + name + \" and I am an \" + job\n",
    "print(longer_string)\n",
    "\n",
    "phrase = f\"My name is {name} and I am an {job}.\"\n",
    "print(phrase)\n"
   ]
  },
  {
   "cell_type": "code",
   "execution_count": 25,
   "metadata": {},
   "outputs": [
    {
     "name": "stdout",
     "output_type": "stream",
     "text": [
      "dog\n",
      "cat\n",
      "racoon\n"
     ]
    }
   ],
   "source": [
    "slice_this_phrase = 'dog cat racoon'\n",
    "animal_1 = slice_this_phrase[0:3]\n",
    "animal_2 = slice_this_phrase[4:7]\n",
    "animal_3 = slice_this_phrase[-6:]\n",
    "print(animal_1)\n",
    "print(animal_2)\n",
    "print(animal_3)"
   ]
  },
  {
   "cell_type": "code",
   "execution_count": 29,
   "metadata": {},
   "outputs": [
    {
     "name": "stdout",
     "output_type": "stream",
     "text": [
      "[1, 'My name is Naomi and I am an Intelligence Analyst.', 'My name is Naomi and I am an Intelligence Analyst', 'Hi']\n"
     ]
    }
   ],
   "source": [
    "list_1 = [1, phrase, longer_string, \"Hi\"]\n",
    "print(list_1)"
   ]
  },
  {
   "cell_type": "code",
   "execution_count": 38,
   "metadata": {},
   "outputs": [
    {
     "name": "stdout",
     "output_type": "stream",
     "text": [
      "['blue', 'purple']\n",
      "['red', 'blue', 'green', 'purple', 'teal']\n",
      "['red', 'blue', 'green', 'purple', 'teal', 'brown', 'gold', 'white']\n"
     ]
    }
   ],
   "source": [
    "colours = [\"red\", \"blue\", \"green\", \"purple\"]\n",
    "# [start:stop:step]\n",
    "print(colours[1::2])\n",
    "\n",
    "colours.append(\"teal\")\n",
    "print(colours)\n",
    "\n",
    "more_colours = [\"brown\", \"gold\", \"white\"]\n",
    "colours.extend(more_colours)\n",
    "print(colours)"
   ]
  }
 ],
 "metadata": {
  "kernelspec": {
   "display_name": "Python 3",
   "language": "python",
   "name": "python3"
  },
  "language_info": {
   "codemirror_mode": {
    "name": "ipython",
    "version": 3
   },
   "file_extension": ".py",
   "mimetype": "text/x-python",
   "name": "python",
   "nbconvert_exporter": "python",
   "pygments_lexer": "ipython3",
   "version": "3.10.13"
  }
 },
 "nbformat": 4,
 "nbformat_minor": 2
}
