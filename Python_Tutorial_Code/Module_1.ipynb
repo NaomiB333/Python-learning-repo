{
 "cells": [
  {
   "cell_type": "code",
   "execution_count": 2,
   "metadata": {},
   "outputs": [
    {
     "name": "stdout",
     "output_type": "stream",
     "text": [
      "15\n"
     ]
    }
   ],
   "source": [
    "x = 5\n",
    "y = 10\n",
    "sum_1_2 = x + y\n",
    "print(sum_1_2)\n",
    "\n",
    "\n"
   ]
  },
  {
   "cell_type": "code",
   "execution_count": 3,
   "metadata": {},
   "outputs": [
    {
     "name": "stdout",
     "output_type": "stream",
     "text": [
      "<class 'float'>\n"
     ]
    }
   ],
   "source": [
    "x = 10.0\n",
    "y = 5\n",
    "z = x + y\n",
    "print(type(z))\n",
    "     \n"
   ]
  },
  {
   "cell_type": "code",
   "execution_count": 4,
   "metadata": {},
   "outputs": [
    {
     "name": "stdout",
     "output_type": "stream",
     "text": [
      "20\n"
     ]
    }
   ],
   "source": [
    "x = 2\n",
    "y = 10\n",
    "z = y * x\n",
    "print(z)\n"
   ]
  },
  {
   "cell_type": "code",
   "execution_count": 5,
   "metadata": {},
   "outputs": [
    {
     "name": "stdout",
     "output_type": "stream",
     "text": [
      "12.56\n"
     ]
    }
   ],
   "source": [
    "ci = 2\n",
    "pi = 3.14\n",
    "ar = pi * ci ** 2\n",
    "print(ar)"
   ]
  },
  {
   "cell_type": "code",
   "execution_count": 6,
   "metadata": {},
   "outputs": [
    {
     "name": "stdout",
     "output_type": "stream",
     "text": [
      "My name is Naomi and I am the teacher\n"
     ]
    }
   ],
   "source": [
    "name = \"Naomi\"\n",
    "job = \"teacher\"\n",
    "longer_string = \"My name is \" + name + \" and I am the \" + job\n",
    "print(longer_string)\n",
    "\n",
    "phrase = f\"My name is {name} and I am the {job}.\"\n"
   ]
  },
  {
   "cell_type": "code",
   "execution_count": 7,
   "metadata": {},
   "outputs": [
    {
     "name": "stdout",
     "output_type": "stream",
     "text": [
      "My name is Naomi and I am an Intelligence Analyst\n",
      "My name is Naomi and I am an Intelligence Analyst.\n"
     ]
    }
   ],
   "source": [
    "name = \"Naomi\"\n",
    "job = \"Intelligence Analyst\"\n",
    "longer_string = \"My name is \" + name + \" and I am an \" + job\n",
    "print(longer_string)\n",
    "\n",
    "phrase = f\"My name is {name} and I am an {job}.\"\n",
    "print(phrase)\n"
   ]
  },
  {
   "cell_type": "code",
   "execution_count": 8,
   "metadata": {},
   "outputs": [
    {
     "name": "stdout",
     "output_type": "stream",
     "text": [
      "dog\n",
      "cat\n",
      "racoon\n"
     ]
    }
   ],
   "source": [
    "slice_this_phrase = 'dog cat racoon'\n",
    "animal_1 = slice_this_phrase[0:3]\n",
    "animal_2 = slice_this_phrase[4:7]\n",
    "animal_3 = slice_this_phrase[-6:]\n",
    "print(animal_1)\n",
    "print(animal_2)\n",
    "print(animal_3)"
   ]
  },
  {
   "cell_type": "code",
   "execution_count": 9,
   "metadata": {},
   "outputs": [
    {
     "name": "stdout",
     "output_type": "stream",
     "text": [
      "[1, 'My name is Naomi and I am an Intelligence Analyst.', 'My name is Naomi and I am an Intelligence Analyst', 'Hi']\n"
     ]
    }
   ],
   "source": [
    "list_1 = [1, phrase, longer_string, \"Hi\"]\n",
    "print(list_1)"
   ]
  },
  {
   "cell_type": "code",
   "execution_count": 10,
   "metadata": {},
   "outputs": [
    {
     "name": "stdout",
     "output_type": "stream",
     "text": [
      "['blue', 'purple']\n",
      "['red', 'blue', 'green', 'purple', 'teal']\n",
      "['red', 'blue', 'green', 'purple', 'teal', 'brown', 'gold', 'white']\n"
     ]
    }
   ],
   "source": [
    "colours = [\"red\", \"blue\", \"green\", \"purple\"]\n",
    "# [start:stop:step]\n",
    "print(colours[1::2])\n",
    "\n",
    "colours.append(\"teal\")\n",
    "print(colours)\n",
    "\n",
    "more_colours = [\"brown\", \"gold\", \"white\"]\n",
    "colours.extend(more_colours)\n",
    "print(colours)"
   ]
  },
  {
   "cell_type": "code",
   "execution_count": 11,
   "metadata": {},
   "outputs": [
    {
     "name": "stdout",
     "output_type": "stream",
     "text": [
      "12\n",
      "2\n",
      "49\n",
      "25\n",
      "16807\n",
      "12\n"
     ]
    },
    {
     "ename": "NameError",
     "evalue": "name 'z1' is not defined",
     "output_type": "error",
     "traceback": [
      "\u001b[0;31m---------------------------------------------------------------------------\u001b[0m",
      "\u001b[0;31mNameError\u001b[0m                                 Traceback (most recent call last)",
      "Cell \u001b[0;32mIn[11], line 14\u001b[0m\n\u001b[1;32m     11\u001b[0m \u001b[38;5;28mprint\u001b[39m (z_3)\n\u001b[1;32m     12\u001b[0m \u001b[38;5;28mprint\u001b[39m (z_4)\n\u001b[0;32m---> 14\u001b[0m Math \u001b[38;5;241m=\u001b[39m \u001b[38;5;28mprint\u001b[39m(z), \u001b[38;5;28mprint\u001b[39m (\u001b[43mz1\u001b[49m), \u001b[38;5;28mprint\u001b[39m (z2)\n\u001b[1;32m     15\u001b[0m \u001b[38;5;28mprint\u001b[39m (Math)\n",
      "\u001b[0;31mNameError\u001b[0m: name 'z1' is not defined"
     ]
    }
   ],
   "source": [
    "x = 7\n",
    "y = 5\n",
    "z = x + y\n",
    "z_1 = x - y\n",
    "z_2 = x * x\n",
    "z_3 = y * y\n",
    "z_4 = x ** y\n",
    "print(z)\n",
    "print (z_1)\n",
    "print (z_2)\n",
    "print (z_3)\n",
    "print (z_4)\n",
    "\n",
    "Math = print(z), print (z1), print (z2)\n",
    "print (Math)\n"
   ]
  },
  {
   "cell_type": "code",
   "execution_count": null,
   "metadata": {},
   "outputs": [
    {
     "name": "stdout",
     "output_type": "stream",
     "text": [
      "4444\n",
      "XXXXXXXXXXXX4444\n"
     ]
    }
   ],
   "source": [
    "CC = \"4444444444444444\"\n",
    "Last_4_CC = CC[-4:]\n",
    "CCX = \"XXXXXXXXXXXX\"\n",
    "Anon = CCX + Last_4_CC\n",
    "\n",
    "print(Last_4_CC)\n",
    "print(Anon)\n"
   ]
  },
  {
   "cell_type": "code",
   "execution_count": null,
   "metadata": {},
   "outputs": [],
   "source": [
    "dict_1 = {}"
   ]
  },
  {
   "cell_type": "code",
   "execution_count": null,
   "metadata": {},
   "outputs": [
    {
     "ename": "NameError",
     "evalue": "name 'Black' is not defined",
     "output_type": "error",
     "traceback": [
      "\u001b[0;31m---------------------------------------------------------------------------\u001b[0m",
      "\u001b[0;31mNameError\u001b[0m                                 Traceback (most recent call last)",
      "Cell \u001b[0;32mIn[27], line 9\u001b[0m\n\u001b[1;32m      1\u001b[0m Naomi \u001b[38;5;241m=\u001b[39m {\u001b[38;5;124m\"\u001b[39m\u001b[38;5;124mName\u001b[39m\u001b[38;5;124m\"\u001b[39m : \u001b[38;5;124m\"\u001b[39m\u001b[38;5;124mNaomi\u001b[39m\u001b[38;5;124m\"\u001b[39m,\n\u001b[1;32m      2\u001b[0m                 \u001b[38;5;124m\"\u001b[39m\u001b[38;5;124mJob Title\u001b[39m\u001b[38;5;124m\"\u001b[39m : \u001b[38;5;124m\"\u001b[39m\u001b[38;5;124mAnalyst\u001b[39m\u001b[38;5;124m\"\u001b[39m,\n\u001b[1;32m      3\u001b[0m                 \u001b[38;5;124m\"\u001b[39m\u001b[38;5;124mHours\u001b[39m\u001b[38;5;124m\"\u001b[39m : \u001b[38;5;124m\"\u001b[39m\u001b[38;5;124mLots\u001b[39m\u001b[38;5;124m\"\u001b[39m,\n\u001b[1;32m      4\u001b[0m                 \u001b[38;5;124m\"\u001b[39m\u001b[38;5;124mSalary\u001b[39m\u001b[38;5;124m\"\u001b[39m : \u001b[38;5;124m\"\u001b[39m\u001b[38;5;124m10\u001b[39m\u001b[38;5;124m\"\u001b[39m}\n\u001b[1;32m      6\u001b[0m Colours_dict \u001b[38;5;241m=\u001b[39m {\u001b[38;5;124m\"\u001b[39m\u001b[38;5;124mNaomi\u001b[39m\u001b[38;5;124m\"\u001b[39m :\u001b[38;5;124m\"\u001b[39m\u001b[38;5;124mRed\u001b[39m\u001b[38;5;124m\"\u001b[39m,\n\u001b[1;32m      7\u001b[0m                 \u001b[38;5;124m\"\u001b[39m\u001b[38;5;124mEllie\u001b[39m\u001b[38;5;124m\"\u001b[39m :\u001b[38;5;124m\"\u001b[39m\u001b[38;5;124mGreen\u001b[39m\u001b[38;5;124m\"\u001b[39m,\n\u001b[1;32m      8\u001b[0m                 \u001b[38;5;124m\"\u001b[39m\u001b[38;5;124mArchie\u001b[39m\u001b[38;5;124m\"\u001b[39m :[\u001b[38;5;124m\"\u001b[39m\u001b[38;5;124mBlue\u001b[39m\u001b[38;5;124m\"\u001b[39m, \u001b[38;5;124m\"\u001b[39m\u001b[38;5;124mRed\u001b[39m\u001b[38;5;124m\"\u001b[39m, \u001b[38;5;124m\"\u001b[39m\u001b[38;5;124mGreen\u001b[39m\u001b[38;5;124m\"\u001b[39m],\n\u001b[0;32m----> 9\u001b[0m                 \u001b[38;5;124m\"\u001b[39m\u001b[38;5;124mBrett\u001b[39m\u001b[38;5;124m\"\u001b[39m :\u001b[43mBlack\u001b[49m}\n\u001b[1;32m     11\u001b[0m \u001b[38;5;28mprint\u001b[39m(Colours_dict)\n",
      "\u001b[0;31mNameError\u001b[0m: name 'Black' is not defined"
     ]
    }
   ],
   "source": [
    "Naomi = {\"Name\" : \"Naomi\",\n",
    "                \"Job Title\" : \"Analyst\",\n",
    "                \"Hours\" : \"Lots\",\n",
    "                \"Salary\" : \"10\"}\n",
    "\n",
    "Colours_dict = {\"Naomi\" :\"Red\",\n",
    "                \"Ellie\" :\"Green\",\n",
    "                \"Archie\" :[\"Blue\", \"Red\", \"Green\"],\n",
    "                \"Brett\" :Black}\n",
    "\n",
    "print(Colours_dict)\n"
   ]
  },
  {
   "cell_type": "code",
   "execution_count": null,
   "metadata": {},
   "outputs": [
    {
     "name": "stdout",
     "output_type": "stream",
     "text": [
      "{'Wimpy': 'Burgers', 'McDonalds': 'Chips', 'Burger King': 'Wraps'}\n",
      "Burgers\n"
     ]
    }
   ],
   "source": [
    "Rest = {'Wimpy':'Burgers',\n",
    "        'McDonalds':'Chips',\n",
    "        'Burger King':'Wraps'}\n",
    "\n",
    "print(Rest)\n",
    "\n",
    "Wimpy_food = Rest['Wimpy']\n",
    "print(Wimpy_food)\n"
   ]
  },
  {
   "cell_type": "code",
   "execution_count": null,
   "metadata": {},
   "outputs": [
    {
     "name": "stdout",
     "output_type": "stream",
     "text": [
      "dict_keys(['Wimpy', 'McDonalds', 'Burger King'])\n",
      "dict_values(['Burgers', 'Chips', 'Wraps'])\n",
      "dict_items([('Wimpy', 'Burgers'), ('McDonalds', 'Chips'), ('Burger King', 'Wraps')])\n",
      "False\n",
      "False\n"
     ]
    }
   ],
   "source": [
    "print(Rest.keys())\n",
    "print(Rest.values())\n",
    "print(Rest.items())\n",
    "\n",
    "print('Curry house' in Rest)\n",
    "print('Chips' in Rest)\n"
   ]
  },
  {
   "cell_type": "code",
   "execution_count": null,
   "metadata": {},
   "outputs": [
    {
     "name": "stdout",
     "output_type": "stream",
     "text": [
      "{'Wimpy': 'Burgers', 'McDonalds': 'Chips', 'Burger King': 'Wraps', 'KFC': 'Chicken'}\n",
      "Burgers\n",
      "True\n"
     ]
    }
   ],
   "source": [
    "Rest['KFC'] = 'Chicken'\n",
    "Wimp = Rest['Wimpy']\n",
    "\n",
    "print(Rest)\n",
    "print(Wimp)\n",
    "print('McDonalds' in Rest)\n",
    "\n"
   ]
  },
  {
   "cell_type": "code",
   "execution_count": null,
   "metadata": {},
   "outputs": [],
   "source": [
    "import pandas as pd\n",
    "\n",
    "filepath = 'https://raw.githubusercontent.com/data-to-insight/csc-validator-be-903/main/tests/fake_data/header.csv'\n",
    "\n",
    "header_fake = pd.read_csv(filepath)\n",
    "\n"
   ]
  },
  {
   "cell_type": "code",
   "execution_count": null,
   "metadata": {},
   "outputs": [
    {
     "name": "stdout",
     "output_type": "stream",
     "text": [
      "    CHILD  SEX         DOB ETHNIC            UPN  MOTHER MC_DOB\n",
      "0  566910    2  27/03/2008   WROM  D051910639385     NaN    NaN\n",
      "1  384923    2  09/09/2011   REFU  L034811502612     NaN    NaN\n",
      "2  709901    1  14/02/2013   ABAN  Y021751958510     NaN    NaN\n",
      "3  550084    2  04/05/2008   AOTH  R095578985099     NaN    NaN\n",
      "4  710229    2  15/04/2002   REFU  Z095096287583     NaN    NaN\n",
      "5  733831    1  06/07/2013   WROM  Z005227500041     NaN    NaN\n",
      "6   69112    2  11/09/2010   ABAN  X089575916879     NaN    NaN\n",
      "7  853884    2  09/10/2004   WBRI  U096513817313     NaN    NaN\n",
      "8  634852    2  19/10/2006   WIRI  X019131453866     NaN    NaN\n",
      "9  512087    1  01/10/2003   MOTH  J091207487052     NaN    NaN\n",
      "       CHILD  SEX         DOB ETHNIC            UPN  MOTHER MC_DOB\n",
      "2665  199656    1  08/07/2009   WOTH  G006043737339     NaN    NaN\n",
      "2666  587124    1  14/10/2006   AOTH  X013739746473     NaN    NaN\n",
      "2667  558581    1  05/07/2001   MWBC  S048947751783     NaN    NaN\n",
      "2668  937984    2  08/05/2008   WROM  B072095547455     NaN    NaN\n",
      "2669  942735    2  27/10/2010   BCRB  V010957149459     NaN    NaN\n",
      "2670  152113    1  06/06/2003   WBRI  K096794376750     NaN    NaN\n",
      "2671  481370    2  12/02/2008   BAFR  C014150452081     NaN    NaN\n",
      "2672  791577    1  28/05/2011   WBRI  Q009369089812     NaN    NaN\n",
      "2673  238470    1  21/11/2013   AIND  P095222532769     NaN    NaN\n",
      "2674  437361    1  15/12/2012   WROM  G018001328504     NaN    NaN\n",
      "<class 'pandas.core.frame.DataFrame'>\n",
      "RangeIndex: 2675 entries, 0 to 2674\n",
      "Data columns (total 7 columns):\n",
      " #   Column  Non-Null Count  Dtype  \n",
      "---  ------  --------------  -----  \n",
      " 0   CHILD   2675 non-null   int64  \n",
      " 1   SEX     2675 non-null   int64  \n",
      " 2   DOB     2675 non-null   object \n",
      " 3   ETHNIC  2675 non-null   object \n",
      " 4   UPN     2675 non-null   object \n",
      " 5   MOTHER  1 non-null      float64\n",
      " 6   MC_DOB  1 non-null      object \n",
      "dtypes: float64(1), int64(2), object(4)\n",
      "memory usage: 146.4+ KB\n",
      "None\n"
     ]
    }
   ],
   "source": [
    "print(header_fake.head(10))\n",
    "print(header_fake.tail(10))\n",
    "print(header_fake.info(10))"
   ]
  },
  {
   "cell_type": "code",
   "execution_count": null,
   "metadata": {},
   "outputs": [
    {
     "name": "stdout",
     "output_type": "stream",
     "text": [
      "   col1 col2 col3\n",
      "0     1    A  foo\n",
      "1     2    B  bar\n",
      "2     3    C  baz\n",
      "   column1 column2 column3\n",
      "0        1       A     foo\n",
      "1        2       B     bar\n",
      "2        3       C     baz\n"
     ]
    }
   ],
   "source": [
    "d_1 ={'col1':[1, 2, 3],\n",
    "      'col2':['A', 'B', 'C'],\n",
    "      'col3':['foo', 'bar', 'baz']}\n",
    "\n",
    "df_1 = pd.DataFrame(d_1)\n",
    "print(df_1)\n",
    "\n",
    "df_2 =pd.DataFrame([\n",
    "    {'column1':1,\n",
    "     'column2':'A',\n",
    "     'column3':'foo'},\n",
    "     {'column1':2,\n",
    "     'column2':'B',\n",
    "     'column3':'bar'},\n",
    "     {'column1':3,\n",
    "     'column2':'C',\n",
    "     'column3':'baz'},\n",
    "    ])\n",
    "\n",
    "print(df_2)\n"
   ]
  },
  {
   "cell_type": "code",
   "execution_count": null,
   "metadata": {},
   "outputs": [
    {
     "name": "stdout",
     "output_type": "stream",
     "text": [
      "      Name Salary     Job Title\n",
      "0    Naomi  10000       Analyst\n",
      "1     Nina  10000       Analyst\n",
      "2     Sian  15000  Line Manager\n",
      "3    Julie  20000  Team Manager\n",
      "4  Suzanne  30000      Director\n"
     ]
    }
   ],
   "source": [
    "emp_1 = pd.DataFrame([\n",
    "    {'Name':'Naomi',\n",
    "     'Salary':'10000',\n",
    "     'Job Title':'Analyst'},\n",
    "     {'Name':'Nina',\n",
    "     'Salary':'10000',\n",
    "     'Job Title':'Analyst'},\n",
    "    {'Name':'Sian',\n",
    "     'Salary':'15000',\n",
    "     'Job Title':'Line Manager'},\n",
    "    {'Name':'Julie',\n",
    "     'Salary':'20000',\n",
    "     'Job Title':'Team Manager'},\n",
    "    {'Name':'Suzanne',\n",
    "     'Salary':'30000',\n",
    "     'Job Title':'Director'}\n",
    "    ])\n",
    "\n",
    "print(emp_1)\n",
    "\n"
   ]
  },
  {
   "cell_type": "code",
   "execution_count": null,
   "metadata": {},
   "outputs": [
    {
     "name": "stdout",
     "output_type": "stream",
     "text": [
      "The mean salary is: 17000.0\n",
      "The total of salaries is: 85000\n",
      "The max and min salaries respectively are: 30000, 10000\n"
     ]
    }
   ],
   "source": [
    "emp_1['Salary'] = emp_1['Salary'].astype('int')\n",
    "\n",
    "mean_salary = emp_1['Salary'].mean()\n",
    "sum_salary = emp_1['Salary'].sum()\n",
    "max_salary = emp_1['Salary'].max()\n",
    "min_salary = emp_1['Salary'].min()\n",
    "\n",
    "print(f'The mean salary is: {mean_salary}')\n",
    "print(f'The total of salaries is: {sum_salary}')\n",
    "print(f'The max and min salaries respectively are: {max_salary}, {min_salary}')\n",
    "\n"
   ]
  },
  {
   "cell_type": "code",
   "execution_count": null,
   "metadata": {},
   "outputs": [],
   "source": [
    "import pandas as pd\n",
    "\n",
    "list_of_dicts = [\n",
    "    {'col1:1,\n",
    "     'col2':2},\n",
    "     {'col1':'A',\n",
    "      'col2':'B'}\n",
    "]\n",
    "\n",
    "df = pd.DataFrame(list_of_dicts)\n",
    "\n",
    "print(df)"
   ]
  },
  {
   "cell_type": "code",
   "execution_count": null,
   "metadata": {},
   "outputs": [],
   "source": [
    "filename = https://raw.githubusercontent.com/data-to-insight/ERN-sessions/main/data/1980%202023%20average%20house%20prices.csv\n",
    "\n",
    "df = pd.read_csv(filename)\n",
    "\n",
    "print(df.head())\n"
   ]
  },
  {
   "cell_type": "code",
   "execution_count": 13,
   "metadata": {},
   "outputs": [
    {
     "ename": "NameError",
     "evalue": "name 'pd' is not defined",
     "output_type": "error",
     "traceback": [
      "\u001b[0;31m---------------------------------------------------------------------------\u001b[0m",
      "\u001b[0;31mNameError\u001b[0m                                 Traceback (most recent call last)",
      "Cell \u001b[0;32mIn[13], line 7\u001b[0m\n\u001b[1;32m      1\u001b[0m \u001b[38;5;66;03m# 01/01/2000\u001b[39;00m\n\u001b[1;32m      2\u001b[0m \u001b[38;5;66;03m# %d/%m/%Y\u001b[39;00m\n\u001b[1;32m      3\u001b[0m \u001b[38;5;66;03m# strftime\u001b[39;00m\n\u001b[1;32m      4\u001b[0m \u001b[38;5;66;03m# %b month but with local shortening eg: jan\u001b[39;00m\n\u001b[1;32m      5\u001b[0m \u001b[38;5;66;03m# %B month month name January\u001b[39;00m\n\u001b[0;32m----> 7\u001b[0m df[\u001b[38;5;124m'\u001b[39m\u001b[38;5;124mPeriod\u001b[39m\u001b[38;5;124m'\u001b[39m] \u001b[38;5;241m=\u001b[39m \u001b[43mpd\u001b[49m\u001b[38;5;241m.\u001b[39mto\u001b[38;5;241m.\u001b[39mdatetime(df[\u001b[38;5;124m'\u001b[39m\u001b[38;5;124mPeriod\u001b[39m\u001b[38;5;124m'\u001b[39m], \u001b[38;5;28mformat\u001b[39m\u001b[38;5;241m=\u001b[39m \u001b[38;5;124m'\u001b[39m\u001b[38;5;124m%\u001b[39m\u001b[38;5;124mY-\u001b[39m\u001b[38;5;124m%\u001b[39m\u001b[38;5;124mm\u001b[39m\u001b[38;5;124m'\u001b[39m, errors\u001b[38;5;241m=\u001b[39m\u001b[38;5;124m'\u001b[39m\u001b[38;5;124mcoerce\u001b[39m\u001b[38;5;124m'\u001b[39m)\n\u001b[1;32m      9\u001b[0m df [\u001b[38;5;124m'\u001b[39m\u001b[38;5;124mAge of Data (Years)\u001b[39m\u001b[38;5;124m'\u001b[39m] \u001b[38;5;241m=\u001b[39m pd\u001b[38;5;241m.\u001b[39mto_datetime(\u001b[38;5;124m'\u001b[39m\u001b[38;5;124mtoday\u001b[39m\u001b[38;5;124m'\u001b[39m)\u001b[38;5;241m.\u001b[39mnormalize() \u001b[38;5;241m-\u001b[39m df [\u001b[38;5;124m'\u001b[39m\u001b[38;5;124mPeriod\u001b[39m\u001b[38;5;124m'\u001b[39m]\n",
      "\u001b[0;31mNameError\u001b[0m: name 'pd' is not defined"
     ]
    }
   ],
   "source": [
    "# 01/01/2000\n",
    "# %d/%m/%Y\n",
    "# strftime\n",
    "# %b month but with local shortening eg: jan\n",
    "# %B month month name January\n",
    "\n",
    "df['Period'] = pd.to.datetime(df['Period'], format= '%Y-%m', errors='coerce')\n",
    "\n",
    "df ['Age of Data (Years)'] = pd.to_datetime('today').normalize() - df ['Period']\n"
   ]
  },
  {
   "cell_type": "code",
   "execution_count": null,
   "metadata": {},
   "outputs": [
    {
     "ename": "NameError",
     "evalue": "name 'df' is not defined",
     "output_type": "error",
     "traceback": [
      "\u001b[0;31m---------------------------------------------------------------------------\u001b[0m",
      "\u001b[0;31mNameError\u001b[0m                                 Traceback (most recent call last)",
      "Cell \u001b[0;32mIn[1], line 3\u001b[0m\n\u001b[1;32m      1\u001b[0m \u001b[38;5;28;01mimport\u001b[39;00m \u001b[38;5;21;01mnumpy\u001b[39;00m \u001b[38;5;28;01mas\u001b[39;00m \u001b[38;5;21;01mnp\u001b[39;00m\n\u001b[0;32m----> 3\u001b[0m df[\u001b[38;5;124m'\u001b[39m\u001b[38;5;124mAge of Data (Years)\u001b[39m\u001b[38;5;124m'\u001b[39m] \u001b[38;5;241m=\u001b[39m \u001b[43mdf\u001b[49m ([\u001b[38;5;124m'\u001b[39m\u001b[38;5;124mAge of Data (Years)\u001b[39m\u001b[38;5;124m'\u001b[39m] \u001b[38;5;241m/\u001b[39m np\u001b[38;5;241m.\u001b[39mtimedelta64(\u001b[38;5;241m1\u001b[39m, \u001b[38;5;124m'\u001b[39m\u001b[38;5;124mY\u001b[39m\u001b[38;5;124m'\u001b[39m))\n\u001b[1;32m      4\u001b[0m \u001b[38;5;28mprint\u001b[39m (df)\n",
      "\u001b[0;31mNameError\u001b[0m: name 'df' is not defined"
     ]
    }
   ],
   "source": [
    "import numpy as np\n",
    "\n",
    "df['Age of Data (Years)'] = df (['Age of Data (Years)'] / np.timedelta64(1, 'Y'))\n",
    "print (df)\n"
   ]
  },
  {
   "cell_type": "code",
   "execution_count": 12,
   "metadata": {},
   "outputs": [
    {
     "ename": "SyntaxError",
     "evalue": "'(' was never closed (2471636304.py, line 6)",
     "output_type": "error",
     "traceback": [
      "\u001b[0;36m  Cell \u001b[0;32mIn[12], line 6\u001b[0;36m\u001b[0m\n\u001b[0;31m    df['Age'] = (df['Age'] / pd.Timedelta('365 days')\u001b[0m\n\u001b[0m                ^\u001b[0m\n\u001b[0;31mSyntaxError\u001b[0m\u001b[0;31m:\u001b[0m '(' was never closed\n"
     ]
    }
   ],
   "source": [
    "df = df[['LAchildID', 'PersonBirthDate', 'GenderCurrent']]\n",
    "\n",
    "df['PersonBirthDate'] = pd.to_datetime(df['PersonBirthDate'], format='%Y-%m-%d', errors='coerce')\n",
    "\n",
    "df['Age'] = pd.to_datetime('today').normalize() - df['PersonBirthDate']\n",
    "df['Age'] = (df['Age'] / pd.Timedelta('365 days')\n",
    "print(df)"
   ]
  },
  {
   "cell_type": "code",
   "execution_count": 14,
   "metadata": {},
   "outputs": [
    {
     "ename": "SyntaxError",
     "evalue": "invalid syntax (1754380349.py, line 1)",
     "output_type": "error",
     "traceback": [
      "\u001b[0;36m  Cell \u001b[0;32mIn[14], line 1\u001b[0;36m\u001b[0m\n\u001b[0;31m    gender_map = (1:'Male',\u001b[0m\n\u001b[0m                   ^\u001b[0m\n\u001b[0;31mSyntaxError\u001b[0m\u001b[0;31m:\u001b[0m invalid syntax\n"
     ]
    }
   ],
   "source": [
    "gender_map = (1:'Male',\n",
    "              2:'Female',\n",
    "              0:'Unknown',\n",
    "              9:'Unknown')\n",
    "\n",
    "df['GenderCurrent'] = df['GenderCurrent'].mpa()\n",
    "\n",
    "print(df)"
   ]
  }
 ],
 "metadata": {
  "kernelspec": {
   "display_name": "Python 3",
   "language": "python",
   "name": "python3"
  },
  "language_info": {
   "codemirror_mode": {
    "name": "ipython",
    "version": 3
   },
   "file_extension": ".py",
   "mimetype": "text/x-python",
   "name": "python",
   "nbconvert_exporter": "python",
   "pygments_lexer": "ipython3",
   "version": "3.10.13"
  }
 },
 "nbformat": 4,
 "nbformat_minor": 2
}
