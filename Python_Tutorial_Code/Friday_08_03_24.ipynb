{
 "cells": [
  {
   "cell_type": "code",
   "execution_count": 3,
   "metadata": {},
   "outputs": [
    {
     "name": "stdout",
     "output_type": "stream",
     "text": [
      "1\n",
      "2\n",
      "3\n",
      "4\n",
      "5\n",
      "6\n",
      "7\n",
      "8\n",
      "9\n",
      "10\n"
     ]
    }
   ],
   "source": [
    "numbers = list(range(1, 11))\n",
    "\n",
    "\n",
    "for number in numbers:\n",
    "   print(number)\n",
    "   \n",
    "\n"
   ]
  },
  {
   "cell_type": "code",
   "execution_count": 11,
   "metadata": {},
   "outputs": [
    {
     "name": "stdout",
     "output_type": "stream",
     "text": [
      "a\n",
      "b\n",
      "c\n",
      "d\n",
      "e\n",
      "f\n",
      "g\n",
      "h\n",
      "i\n",
      "j\n"
     ]
    }
   ],
   "source": [
    "letters = ['a', 'b', 'c', 'd', 'e', 'f', 'g', 'h', 'i','j']\n",
    "\n",
    "for letter in letters:\n",
    "    print(letter)\n",
    "\n",
    "    "
   ]
  },
  {
   "cell_type": "code",
   "execution_count": 13,
   "metadata": {},
   "outputs": [
    {
     "name": "stdout",
     "output_type": "stream",
     "text": [
      "a\n",
      "b\n",
      "c\n",
      "d\n",
      "e\n",
      "f\n",
      "g\n",
      "h\n",
      "i\n",
      "j\n",
      "k\n"
     ]
    }
   ],
   "source": [
    "word = 'abcdefghijk'\n",
    "\n",
    "for character in word:\n",
    "    print(character)"
   ]
  },
  {
   "cell_type": "code",
   "execution_count": 16,
   "metadata": {},
   "outputs": [
    {
     "name": "stdout",
     "output_type": "stream",
     "text": [
      "1\n",
      "2\n",
      "3\n",
      "4\n",
      "5\n",
      "6\n",
      "7\n",
      "8\n",
      "9\n",
      "10\n",
      "2\n",
      "4\n",
      "6\n",
      "8\n",
      "10\n",
      "12\n",
      "14\n",
      "16\n",
      "18\n",
      "20\n",
      "3\n",
      "6\n",
      "9\n",
      "12\n",
      "15\n",
      "18\n",
      "21\n",
      "24\n",
      "27\n",
      "30\n",
      "4\n",
      "8\n",
      "12\n",
      "16\n",
      "20\n",
      "24\n",
      "28\n",
      "32\n",
      "36\n",
      "40\n",
      "5\n",
      "10\n",
      "15\n",
      "20\n",
      "25\n",
      "30\n",
      "35\n",
      "40\n",
      "45\n",
      "50\n",
      "6\n",
      "12\n",
      "18\n",
      "24\n",
      "30\n",
      "36\n",
      "42\n",
      "48\n",
      "54\n",
      "60\n",
      "7\n",
      "14\n",
      "21\n",
      "28\n",
      "35\n",
      "42\n",
      "49\n",
      "56\n",
      "63\n",
      "70\n",
      "8\n",
      "16\n",
      "24\n",
      "32\n",
      "40\n",
      "48\n",
      "56\n",
      "64\n",
      "72\n",
      "80\n",
      "9\n",
      "18\n",
      "27\n",
      "36\n",
      "45\n",
      "54\n",
      "63\n",
      "72\n",
      "81\n",
      "90\n",
      "10\n",
      "20\n",
      "30\n",
      "40\n",
      "50\n",
      "60\n",
      "70\n",
      "80\n",
      "90\n",
      "100\n"
     ]
    }
   ],
   "source": [
    "for number_a in numbers:\n",
    "    for number_b in numbers:\n",
    "       x = number_a * number_b\n",
    "       print(x)\n",
    "       "
   ]
  },
  {
   "cell_type": "code",
   "execution_count": 17,
   "metadata": {},
   "outputs": [
    {
     "name": "stdout",
     "output_type": "stream",
     "text": [
      "1 a\n",
      "1 b\n",
      "1 c\n",
      "1 d\n",
      "1 e\n",
      "1 f\n",
      "1 g\n",
      "1 h\n",
      "1 i\n",
      "1 j\n",
      "2 a\n",
      "2 b\n",
      "2 c\n",
      "2 d\n",
      "2 e\n",
      "2 f\n",
      "2 g\n",
      "2 h\n",
      "2 i\n",
      "2 j\n",
      "3 a\n",
      "3 b\n",
      "3 c\n",
      "3 d\n",
      "3 e\n",
      "3 f\n",
      "3 g\n",
      "3 h\n",
      "3 i\n",
      "3 j\n",
      "4 a\n",
      "4 b\n",
      "4 c\n",
      "4 d\n",
      "4 e\n",
      "4 f\n",
      "4 g\n",
      "4 h\n",
      "4 i\n",
      "4 j\n",
      "5 a\n",
      "5 b\n",
      "5 c\n",
      "5 d\n",
      "5 e\n",
      "5 f\n",
      "5 g\n",
      "5 h\n",
      "5 i\n",
      "5 j\n",
      "6 a\n",
      "6 b\n",
      "6 c\n",
      "6 d\n",
      "6 e\n",
      "6 f\n",
      "6 g\n",
      "6 h\n",
      "6 i\n",
      "6 j\n",
      "7 a\n",
      "7 b\n",
      "7 c\n",
      "7 d\n",
      "7 e\n",
      "7 f\n",
      "7 g\n",
      "7 h\n",
      "7 i\n",
      "7 j\n",
      "8 a\n",
      "8 b\n",
      "8 c\n",
      "8 d\n",
      "8 e\n",
      "8 f\n",
      "8 g\n",
      "8 h\n",
      "8 i\n",
      "8 j\n",
      "9 a\n",
      "9 b\n",
      "9 c\n",
      "9 d\n",
      "9 e\n",
      "9 f\n",
      "9 g\n",
      "9 h\n",
      "9 i\n",
      "9 j\n",
      "10 a\n",
      "10 b\n",
      "10 c\n",
      "10 d\n",
      "10 e\n",
      "10 f\n",
      "10 g\n",
      "10 h\n",
      "10 i\n",
      "10 j\n"
     ]
    }
   ],
   "source": [
    "for number in numbers:\n",
    "    for letter in letters:\n",
    "        print(f'{number} {letter}')"
   ]
  },
  {
   "cell_type": "code",
   "execution_count": 19,
   "metadata": {},
   "outputs": [
    {
     "name": "stdout",
     "output_type": "stream",
     "text": [
      "['1a', '1b', '1c', '1d', '1e', '2a', '2b', '2c', '2d', '2e', '3a', '3b', '3c', '3d', '3e', '4a', '4b', '4c', '4d', '4e', '5a', '5b', '5c', '5d', '5e']\n"
     ]
    }
   ],
   "source": [
    "numbers = [1, 2, 3, 4, 5]\n",
    "letters = ['a', 'b', 'c', 'd', 'e']\n",
    "\n",
    "letter_numbers = []\n",
    "\n",
    "for number in numbers:\n",
    "    for letter in letters:\n",
    "        letter_numbers.append(f'{number}{letter}')\n",
    "\n",
    "      \n",
    "print(letter_numbers)"
   ]
  },
  {
   "cell_type": "code",
   "execution_count": 22,
   "metadata": {},
   "outputs": [
    {
     "name": "stdout",
     "output_type": "stream",
     "text": [
      "['butter ham', 'butter cheese', 'butter sardines', 'jam ham', 'jam cheese', 'jam sardines', 'peanut butter ham', 'peanut butter cheese', 'peanut butter sardines']\n"
     ]
    }
   ],
   "source": [
    "spreads = ['butter', 'jam', 'peanut butter']\n",
    "toppings = ['ham', 'cheese', 'sardines']\n",
    "\n",
    "spreads_toppings = []\n",
    "\n",
    "for spread in spreads:\n",
    "    for topping in toppings:\n",
    "        spreads_toppings.append(f'{spread} {topping}')\n",
    "\n",
    "print(spreads_toppings)"
   ]
  },
  {
   "cell_type": "code",
   "execution_count": 24,
   "metadata": {},
   "outputs": [
    {
     "name": "stdout",
     "output_type": "stream",
     "text": [
      "the key is key 1, the value is 1\n",
      "the key is key 2, the value is 2\n",
      "the key is key 3, the value is 3\n"
     ]
    }
   ],
   "source": [
    "dict_1 = {'key 1' : 1,\n",
    "          'key 2' : 2,\n",
    "          'key 3' : 3}\n",
    "\n",
    "for key, value in dict_1.items():\n",
    "    print(f'the key is {key}, the value is {value}')"
   ]
  },
  {
   "cell_type": "code",
   "execution_count": 28,
   "metadata": {},
   "outputs": [
    {
     "name": "stdout",
     "output_type": "stream",
     "text": [
      "KFC sells Chicken\n",
      "McD sells Burgers\n",
      "GBK sells Posh Burgers\n",
      "Wingstop sells Chicken Wings\n"
     ]
    }
   ],
   "source": [
    "dict_2 = {'KFC' : 'Chicken',\n",
    "          'McD' : 'Burgers',\n",
    "          'GBK' : 'Posh Burgers',\n",
    "          'Wingstop' : 'Chicken Wings'}\n",
    "\n",
    "for restuarant, food in dict_2.items():\n",
    "    print(f'{restuarant} sells {food}')\n"
   ]
  },
  {
   "cell_type": "code",
   "execution_count": 30,
   "metadata": {},
   "outputs": [
    {
     "ename": "NameError",
     "evalue": "name 'animals' is not defined",
     "output_type": "error",
     "traceback": [
      "\u001b[0;31m---------------------------------------------------------------------------\u001b[0m",
      "\u001b[0;31mNameError\u001b[0m                                 Traceback (most recent call last)",
      "Cell \u001b[0;32mIn[30], line 5\u001b[0m\n\u001b[1;32m      1\u001b[0m \u001b[38;5;28;01mimport\u001b[39;00m \u001b[38;5;21;01mpandas\u001b[39;00m \u001b[38;5;28;01mas\u001b[39;00m \u001b[38;5;21;01mpd\u001b[39;00m\n\u001b[1;32m      3\u001b[0m df \u001b[38;5;241m=\u001b[39m pd\u001b[38;5;241m.\u001b[39mDataFrame({\u001b[38;5;124m'\u001b[39m\u001b[38;5;124mNumbers\u001b[39m\u001b[38;5;124m'\u001b[39m:numbers,\n\u001b[1;32m      4\u001b[0m                    \u001b[38;5;124m'\u001b[39m\u001b[38;5;124mLetters\u001b[39m\u001b[38;5;124m'\u001b[39m:letters,\n\u001b[0;32m----> 5\u001b[0m                    \u001b[38;5;124m'\u001b[39m\u001b[38;5;124mAnimals\u001b[39m\u001b[38;5;124m'\u001b[39m:\u001b[43manimals\u001b[49m})\n\u001b[1;32m      7\u001b[0m even_or_odd \u001b[38;5;241m=\u001b[39m \u001b[38;5;28;01mlambda\u001b[39;00m row: \u001b[38;5;124m'\u001b[39m\u001b[38;5;124meven\u001b[39m\u001b[38;5;124m'\u001b[39m \u001b[38;5;28;01mif\u001b[39;00m row \u001b[38;5;241m%\u001b[39m \u001b[38;5;241m2\u001b[39m \u001b[38;5;241m==\u001b[39m \u001b[38;5;241m0\u001b[39m \u001b[38;5;28;01melse\u001b[39;00m \u001b[38;5;124m'\u001b[39m\u001b[38;5;124modd\u001b[39m\u001b[38;5;124m'\u001b[39m\n\u001b[1;32m      9\u001b[0m df[\u001b[38;5;124m'\u001b[39m\u001b[38;5;124mEven or Odd\u001b[39m\u001b[38;5;124m'\u001b[39m] \u001b[38;5;241m=\u001b[39m df[\u001b[38;5;124m'\u001b[39m\u001b[38;5;124mNumbers\u001b[39m\u001b[38;5;124m'\u001b[39m]\u001b[38;5;241m.\u001b[39mapply(even_or_odd)\n",
      "\u001b[0;31mNameError\u001b[0m: name 'animals' is not defined"
     ]
    }
   ],
   "source": [
    "import pandas as pd\n",
    "\n",
    "df = pd.DataFrame({'Numbers':numbers,\n",
    "                   'Letters':letters,\n",
    "                   'Animals':animals})\n",
    "\n",
    "even_or_odd = lambda row: 'even' if row % 2 == 0 else 'odd'\n",
    "\n",
    "df['Even or Odd'] = df['Numbers'].apply(even_or_odd)\n",
    "\n",
    "df"
   ]
  }
 ],
 "metadata": {
  "kernelspec": {
   "display_name": "Python 3",
   "language": "python",
   "name": "python3"
  },
  "language_info": {
   "codemirror_mode": {
    "name": "ipython",
    "version": 3
   },
   "file_extension": ".py",
   "mimetype": "text/x-python",
   "name": "python",
   "nbconvert_exporter": "python",
   "pygments_lexer": "ipython3",
   "version": "3.10.13"
  }
 },
 "nbformat": 4,
 "nbformat_minor": 2
}
