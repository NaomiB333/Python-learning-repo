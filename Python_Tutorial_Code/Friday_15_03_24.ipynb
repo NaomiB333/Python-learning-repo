{
 "cells": [
  {
   "cell_type": "code",
   "execution_count": null,
   "metadata": {},
   "outputs": [],
   "source": [
    "insert pandas as publish_display_data"
   ]
  },
  {
   "cell_type": "code",
   "execution_count": 4,
   "metadata": {},
   "outputs": [
    {
     "name": "stdout",
     "output_type": "stream",
     "text": [
      "['https://raw.githubusercontent.com/data-to-insight/ERN-sessions/main/data/ChildIdentifiers.csv', 'https://raw.githubusercontent.com/data-to-insight/ERN-sessions/main/data/ChildCharacteristics.csv']\n"
     ]
    }
   ],
   "source": [
    "csv_2 = 'https://raw.githubusercontent.com/data-to-insight/ERN-sessions/main/data/ChildCharacteristics.csv'\n",
    "csv_1 = 'https://raw.githubusercontent.com/data-to-insight/ERN-sessions/main/data/ChildIdentifiers.csv'\n",
    "\n",
    "filename = [csv_1, csv_2]\n",
    "print(filename)\n"
   ]
  },
  {
   "cell_type": "code",
   "execution_count": 8,
   "metadata": {},
   "outputs": [
    {
     "name": "stdout",
     "output_type": "stream",
     "text": [
      "{0:      Unnamed: 0        LAchildID            UPN  FormerUPN  UPNunknown  \\\n",
      "0             0  RND000215205141  A850728973744        NaN         NaN   \n",
      "1             1  RND000824303014  A141396438491        NaN         NaN   \n",
      "2             2  RND000750143123  A929946861554        NaN         NaN   \n",
      "3             3  RND000909164501  A612330267292        NaN         NaN   \n",
      "4             4  RND000382171815  A604459366806        NaN         NaN   \n",
      "..          ...              ...            ...        ...         ...   \n",
      "327         327  RND000112711501  A465246916125        NaN         NaN   \n",
      "328         328  RND000513120794  A540014111973        NaN         NaN   \n",
      "329         329  RND000541643134  A549582689058        NaN         NaN   \n",
      "330         330  RND000404939452  A889492349196        NaN         NaN   \n",
      "331         331  RND000589802835  A877624860226        NaN         NaN   \n",
      "\n",
      "    PersonBirthDate ExpectedPersonBirthDate  GenderCurrent PersonDeathDate  \n",
      "0        2019-12-06                     NaN              1             NaN  \n",
      "1        2011-04-27                     NaN              9             NaN  \n",
      "2        2017-06-06              2019-12-06              1             NaN  \n",
      "3        2014-10-03                     NaN              0             NaN  \n",
      "4        2019-09-25                     NaN              2             NaN  \n",
      "..              ...                     ...            ...             ...  \n",
      "327      2010-07-07                     NaN              2             NaN  \n",
      "328      2018-08-14                     NaN              2             NaN  \n",
      "329      2021-12-09                     NaN             51             NaN  \n",
      "330      2013-07-23                     NaN              2             NaN  \n",
      "331      2021-10-25                     NaN              9             NaN  \n",
      "\n",
      "[332 rows x 9 columns], 1:      Unnamed: 0        LAchildID Ethnicity\n",
      "0             0  RND000215205141      WIRT\n",
      "1             1  RND000824303014      WROM\n",
      "2             2  RND000750143123      AOTH\n",
      "3             3  RND000909164501      MWBC\n",
      "4             4  RND000382171815      APKN\n",
      "..          ...              ...       ...\n",
      "327         327  RND000112711501      WOTH\n",
      "328         328  RND000513120794      WROM\n",
      "329         329  RND000541643134      BCRB\n",
      "330         330  RND000404939452      AIND\n",
      "331         331  RND000589802835      WBRI\n",
      "\n",
      "[332 rows x 3 columns]}\n"
     ]
    }
   ],
   "source": [
    "import pandas as pd\n",
    "\n",
    "csv_2 = 'https://raw.githubusercontent.com/data-to-insight/ERN-sessions/main/data/ChildCharacteristics.csv'\n",
    "csv_1 = 'https://raw.githubusercontent.com/data-to-insight/ERN-sessions/main/data/ChildIdentifiers.csv'\n",
    "\n",
    "filename = [csv_1, csv_2]\n",
    "\n",
    "dfs = {}\n",
    "\n",
    "for i, v in enumerate(filename):\n",
    "    dfs[i] = pd.read_csv(v)\n",
    "   \n",
    "print(dfs)\n"
   ]
  },
  {
   "cell_type": "code",
   "execution_count": 9,
   "metadata": {},
   "outputs": [],
   "source": [
    "import pandas as pd"
   ]
  },
  {
   "cell_type": "code",
   "execution_count": 10,
   "metadata": {},
   "outputs": [
    {
     "data": {
      "text/html": [
       "<div>\n",
       "<style scoped>\n",
       "    .dataframe tbody tr th:only-of-type {\n",
       "        vertical-align: middle;\n",
       "    }\n",
       "\n",
       "    .dataframe tbody tr th {\n",
       "        vertical-align: top;\n",
       "    }\n",
       "\n",
       "    .dataframe thead th {\n",
       "        text-align: right;\n",
       "    }\n",
       "</style>\n",
       "<table border=\"1\" class=\"dataframe\">\n",
       "  <thead>\n",
       "    <tr style=\"text-align: right;\">\n",
       "      <th></th>\n",
       "      <th>ChildId</th>\n",
       "      <th>Age first contact</th>\n",
       "      <th>Gender</th>\n",
       "      <th>Birthday</th>\n",
       "      <th>Age</th>\n",
       "      <th>CP Plan?</th>\n",
       "    </tr>\n",
       "  </thead>\n",
       "  <tbody>\n",
       "    <tr>\n",
       "      <th>0</th>\n",
       "      <td>id1</td>\n",
       "      <td>6</td>\n",
       "      <td>M</td>\n",
       "      <td>2002-01-01</td>\n",
       "      <td>5</td>\n",
       "      <td>Y</td>\n",
       "    </tr>\n",
       "    <tr>\n",
       "      <th>1</th>\n",
       "      <td>id2</td>\n",
       "      <td>12</td>\n",
       "      <td>m</td>\n",
       "      <td>2003-02-02</td>\n",
       "      <td>12</td>\n",
       "      <td>n</td>\n",
       "    </tr>\n",
       "    <tr>\n",
       "      <th>2</th>\n",
       "      <td>id3</td>\n",
       "      <td>11</td>\n",
       "      <td>F</td>\n",
       "      <td>NaT</td>\n",
       "      <td>11</td>\n",
       "      <td>N</td>\n",
       "    </tr>\n",
       "    <tr>\n",
       "      <th>3</th>\n",
       "      <td>id4</td>\n",
       "      <td>1</td>\n",
       "      <td></td>\n",
       "      <td>2023-03-03</td>\n",
       "      <td>6</td>\n",
       "      <td>No</td>\n",
       "    </tr>\n",
       "    <tr>\n",
       "      <th>4</th>\n",
       "      <td>id5</td>\n",
       "      <td>19</td>\n",
       "      <td>F</td>\n",
       "      <td>2012-01-06</td>\n",
       "      <td>2</td>\n",
       "      <td>yES</td>\n",
       "    </tr>\n",
       "  </tbody>\n",
       "</table>\n",
       "</div>"
      ],
      "text/plain": [
       "  ChildId  Age first contact Gender   Birthday  Age CP Plan?\n",
       "0     id1                  6      M 2002-01-01    5        Y\n",
       "1     id2                 12      m 2003-02-02   12        n\n",
       "2     id3                 11      F        NaT   11        N\n",
       "3     id4                  1        2023-03-03    6       No\n",
       "4     id5                 19      F 2012-01-06    2      yES"
      ]
     },
     "execution_count": 10,
     "metadata": {},
     "output_type": "execute_result"
    }
   ],
   "source": [
    "df = pd.DataFrame({'ChildId':['id1', 'id2', 'id3', 'id4', 'id5'],\n",
    "                   'Age first contact':[6,12,11,1,19],\n",
    "                   'Gender':['M','m', 'F', '', 'F' ],\n",
    "                   'Birthday':['01/01/2002', '02/02/2003', pd.NA, '03/03/2023', '06/01/2012'],\n",
    "                   'Age':[5,12,11,6,2],\n",
    "                   'CP Plan?':['Y', 'n', 'N', 'No', 'yES'],})\n",
    "df['Birthday'] = pd.to_datetime(df['Birthday'], dayfirst=True)\n",
    "df"
   ]
  },
  {
   "cell_type": "code",
   "execution_count": 12,
   "metadata": {},
   "outputs": [
    {
     "name": "stdout",
     "output_type": "stream",
     "text": [
      "  ChildId  Age first contact Gender   Birthday  Age CP Plan?\n",
      "1     id2                 12      m 2003-02-02   12        n\n",
      "2     id3                 11      F        NaT   11        N\n"
     ]
    }
   ],
   "source": [
    "condition = df['Age'] >= 10\n",
    "\n",
    "over_10 = df[condition]\n",
    "\n",
    "print(over_10)\n",
    "\n",
    "\n"
   ]
  },
  {
   "cell_type": "code",
   "execution_count": 16,
   "metadata": {},
   "outputs": [
    {
     "name": "stdout",
     "output_type": "stream",
     "text": [
      "  ChildId  Age first contact Gender   Birthday  Age CP Plan?\n",
      "0     id1                  6      M 2002-01-01    5        Y\n",
      "3     id4                  1        2023-03-03    6       No\n"
     ]
    }
   ],
   "source": [
    "condition_1 = df['Age first contact'] <10\n",
    "\n",
    "contact_under_10 = df[condition_1]\n",
    "\n",
    "print(contact_under_10)\n"
   ]
  },
  {
   "cell_type": "code",
   "execution_count": 17,
   "metadata": {},
   "outputs": [
    {
     "name": "stdout",
     "output_type": "stream",
     "text": [
      "  ChildId  Age first contact Gender   Birthday  Age CP Plan?\n",
      "0     id1                  6      M 2002-01-01    5        Y\n",
      "4     id5                 19      F 2012-01-06    2      yES\n"
     ]
    }
   ],
   "source": [
    "error_condition = df['Age first contact'] > df['Age']\n",
    "\n",
    "error_df = df[error_condition]\n",
    "\n",
    "print(error_df)"
   ]
  },
  {
   "cell_type": "code",
   "execution_count": 19,
   "metadata": {},
   "outputs": [
    {
     "name": "stdout",
     "output_type": "stream",
     "text": [
      "  ChildId  Age first contact Gender   Birthday  Age CP Plan?\n",
      "1     id2                 12      m 2003-02-02   12        n\n",
      "2     id3                 11      F        NaT   11        N\n"
     ]
    }
   ],
   "source": [
    "condition_2 = df['Age first contact'] == df['Age']\n",
    "\n",
    "new_df = df[condition_2]\n",
    "\n",
    "print(new_df)\n",
    "\n"
   ]
  },
  {
   "cell_type": "code",
   "execution_count": 25,
   "metadata": {},
   "outputs": [
    {
     "name": "stdout",
     "output_type": "stream",
     "text": [
      "False\n"
     ]
    }
   ],
   "source": [
    "statement_1 = 1 < 2\n",
    "statement_2 = 2 == 2\n",
    "statement_3 = 2 > 3\n",
    "statement_4 = (statement_1 & statement_2) & statement_3\n",
    "\n",
    "print(statement_4)"
   ]
  },
  {
   "cell_type": "code",
   "execution_count": null,
   "metadata": {},
   "outputs": [],
   "source": [
    "statement_1 = 1 < 2 # False\n",
    "statement_2 = 2 == 2 # True\n",
    "statement_3 = 2 > 3 # False\n",
    "\n",
    "statement_4 = (statement_1 & statement_2) & statement_3\n",
    "\n",
    "print(statement_4)\n",
    "\n",
    "print(((1 > 2) & (2 == 2))) # false, because 1 is not greater than 2 and both need to be true\n",
    "print(((1 > 2) | (2 == 2))) # True because at least one of the components is true,\n",
    "                            # even though 1 is not greater than 2\n",
    "print(((3 > 2) | (2 == 2))) # Still true, as at least one is true\n",
    "print(((3 > 2) & (2 == 2))) # Only strue because both are true\n",
    "\n",
    "# In this cell, writet a logical test that fails an and condition,\n",
    "# but passes an or condition, and print both"
   ]
  },
  {
   "cell_type": "code",
   "execution_count": 26,
   "metadata": {},
   "outputs": [
    {
     "name": "stdout",
     "output_type": "stream",
     "text": [
      "False\n"
     ]
    }
   ],
   "source": [
    "statement_5 = 6 > 5\n",
    "statement_6 = 7 < 6\n",
    "statement_7 = 7 == 7\n",
    "\n",
    "statement_8 = statement_5 & statement_6\n",
    "\n",
    "print(statement_8)\n"
   ]
  },
  {
   "cell_type": "code",
   "execution_count": 29,
   "metadata": {},
   "outputs": [
    {
     "name": "stdout",
     "output_type": "stream",
     "text": [
      "  ChildId  Age first contact Gender Birthday  Age CP Plan?\n",
      "2     id3                 11      F      NaT   11        N\n",
      "  ChildId  Age first contact Gender   Birthday  Age CP Plan?\n",
      "0     id1                  6      M 2002-01-01    5        Y\n",
      "1     id2                 12      m 2003-02-02   12        n\n",
      "3     id4                  1        2023-03-03    6       No\n",
      "4     id5                 19      F 2012-01-06    2      yES\n"
     ]
    }
   ],
   "source": [
    "#.isna()\n",
    "#.isin()\n",
    "#str.contains()\n",
    "\n",
    "no_birthday = df[df['Birthday'].isna()]\n",
    "print(no_birthday)\n",
    "\n",
    "has_birthday = df[df['Birthday'].notna()]\n",
    "print(has_birthday)"
   ]
  },
  {
   "cell_type": "code",
   "execution_count": 31,
   "metadata": {},
   "outputs": [
    {
     "name": "stdout",
     "output_type": "stream",
     "text": [
      "  ChildId  Age first contact Gender   Birthday  Age CP Plan?\n",
      "0     id1                  6      M 2002-01-01    5        Y\n",
      "1     id2                 12      m 2003-02-02   12        n\n",
      "2     id3                 11      F        NaT   11        N\n",
      "3     id4                  1        2023-03-03    6       No\n",
      "4     id5                 19      F 2012-01-06    2      yES\n"
     ]
    }
   ],
   "source": [
    "six_or_12 = (df['Age'] == 6) | (df['Age'] == 12)\n",
    "\n",
    "df[df['Age'].isin([6,12])]\n",
    "print(df)\n"
   ]
  },
  {
   "cell_type": "code",
   "execution_count": 33,
   "metadata": {},
   "outputs": [
    {
     "ename": "TypeError",
     "evalue": "'DataFrame' object is not callable",
     "output_type": "error",
     "traceback": [
      "\u001b[0;31m---------------------------------------------------------------------------\u001b[0m",
      "\u001b[0;31mTypeError\u001b[0m                                 Traceback (most recent call last)",
      "Cell \u001b[0;32mIn[33], line 2\u001b[0m\n\u001b[1;32m      1\u001b[0m str_condition \u001b[38;5;241m=\u001b[39m df[\u001b[38;5;124m'\u001b[39m\u001b[38;5;124mCP Plan?\u001b[39m\u001b[38;5;124m'\u001b[39m]\u001b[38;5;241m.\u001b[39mstr\u001b[38;5;241m.\u001b[39mcontains(\u001b[38;5;124m'\u001b[39m\u001b[38;5;124mY\u001b[39m\u001b[38;5;124m'\u001b[39m)\n\u001b[0;32m----> 2\u001b[0m \u001b[43mdf\u001b[49m\u001b[43m(\u001b[49m\u001b[43mstr_condition\u001b[49m\u001b[43m)\u001b[49m\n\u001b[1;32m      3\u001b[0m \u001b[38;5;28mprint\u001b[39m(df)\n",
      "\u001b[0;31mTypeError\u001b[0m: 'DataFrame' object is not callable"
     ]
    }
   ],
   "source": [
    "str_condition = df['CP Plan?'].str.contains('Y')\n",
    "df(str_condition)\n",
    "print(df)\n"
   ]
  },
  {
   "cell_type": "code",
   "execution_count": null,
   "metadata": {},
   "outputs": [],
   "source": [
    "# .isna() / .notna()\n",
    "# .isin()\n",
    "# str.contains()\n",
    "no_birthday = df[df['Birthday'].isna()]\n",
    "has_birthday = df[df['Birthday'].notna()]\n",
    "print(has_birthday)\n",
    "six_or_twelve = (df['Age'] == 6) | (df['Age'] == 12)\n",
    "df[six_or_twelve]\n",
    "print(df[df['Age'].isin([6, 12])])\n",
    "str_condition = df['CP Plan?'].str.lower().str.contains('y')\n",
    "print(df[str_condition])\n"
   ]
  },
  {
   "cell_type": "code",
   "execution_count": 34,
   "metadata": {},
   "outputs": [
    {
     "name": "stdout",
     "output_type": "stream",
     "text": [
      "  ChildId  Age first contact Gender   Birthday  Age CP Plan?\n",
      "4     id5                 19      F 2012-01-06    2      yES\n"
     ]
    }
   ],
   "source": [
    "under_5_cp_plan = (df['Age'] <5) & df['CP Plan?'].str.lower().str.contains('y')\n",
    "print(df[under_5_cp_plan])"
   ]
  },
  {
   "cell_type": "code",
   "execution_count": 38,
   "metadata": {},
   "outputs": [
    {
     "name": "stdout",
     "output_type": "stream",
     "text": [
      "  ChildId  Age first contact Gender   Birthday  Age CP Plan?\n",
      "1     id2                 12      m 2003-02-02   12        n\n"
     ]
    }
   ],
   "source": [
    "first_contact_male = (df['Age first contact'] > 10) & df['Gender'].str.lower().str.contains('m')\n",
    "print(df[first_contact_male])"
   ]
  },
  {
   "cell_type": "code",
   "execution_count": 49,
   "metadata": {},
   "outputs": [
    {
     "name": "stdout",
     "output_type": "stream",
     "text": [
      "1 was not between 10 and 15\n",
      "2 was not between 10 and 15\n",
      "3 was not between 10 and 15\n",
      "4 was not between 10 and 15\n",
      "5 was not between 10 and 15\n",
      "6 was not between 10 and 15\n",
      "7 was not between 10 and 15\n",
      "8 was not between 10 and 15\n",
      "The value was 9\n",
      "10 is greater than or equal to 10\n",
      "10 was not between 10 and 15\n",
      "11 is greater than or equal to 10\n",
      "11 is less than 15\n",
      "12 is greater than or equal to 10\n",
      "12 is less than 15\n",
      "13 is greater than or equal to 10\n",
      "13 is less than 15\n",
      "14 is greater than or equal to 10\n",
      "14 is less than 15\n",
      "15 is greater than or equal to 10\n",
      "15 was not between 10 and 15\n",
      "16 is greater than or equal to 10\n",
      "16 was not between 10 and 15\n",
      "17 is greater than or equal to 10\n",
      "17 was not between 10 and 15\n",
      "18 is greater than or equal to 10\n",
      "18 was not between 10 and 15\n",
      "19 is greater than or equal to 10\n",
      "19 was not between 10 and 15\n"
     ]
    }
   ],
   "source": [
    "for x in list(range(1,20)):\n",
    "    if x >= 10:\n",
    "        print(f'{x} is greater than or equal to 10')\n",
    "    if (x > 10) & (x < 15):\n",
    "        print(f'{x} is less than 15')\n",
    "    elif x == 9:\n",
    "        print('The value was 9')\n",
    "    else:\n",
    "        print(f'{x} was not between 10 and 15')\n"
   ]
  },
  {
   "cell_type": "code",
   "execution_count": 50,
   "metadata": {},
   "outputs": [
    {
     "name": "stdout",
     "output_type": "stream",
     "text": [
      "1 was not between 10 and 15\n",
      "2 was not between 10 and 15\n",
      "3 was not between 10 and 15\n",
      "4 was not between 10 and 15\n",
      "5 was not between 10 and 15\n",
      "6 was not between 10 and 15\n",
      "7 was not between 10 and 15\n",
      "8 was not between 10 and 15\n",
      "The value was 9\n",
      "10 is greater than or equal to 10\n",
      "11 is greater than or equal to 10\n",
      "11 is less than 15\n",
      "12 is greater than or equal to 10\n",
      "12 is less than 15\n",
      "13 is greater than or equal to 10\n",
      "13 is less than 15\n",
      "14 is greater than or equal to 10\n",
      "14 is less than 15\n",
      "15 is greater than or equal to 10\n",
      "16 is greater than or equal to 10\n",
      "17 is greater than or equal to 10\n",
      "18 is greater than or equal to 10\n",
      "19 is greater than or equal to 10\n"
     ]
    }
   ],
   "source": [
    "for x in list(range(1,20)):\n",
    "    if x >= 10:\n",
    "        print(f'{x} is greater than or equal to 10')\n",
    "        if (x > 10) & (x < 15):\n",
    "            print(f'{x} is less than 15')\n",
    "    elif x == 9:\n",
    "        print('The value was 9')\n",
    "    else:\n",
    "        print(f'{x} was not between 10 and 15')\n"
   ]
  },
  {
   "cell_type": "code",
   "execution_count": null,
   "metadata": {},
   "outputs": [],
   "source": [
    "for x in list(range(1,21)): \n",
    "    if x >= 10:\n",
    "        if (x < 15):\n",
    "            print(f'{x} is less than 15 and greater than or equal to 10')\n",
    "        else:\n",
    "            print(f'{x} is greater than or equal to 10 and more than 15')\n",
    "    elif x == 9:\n",
    "        print('The value was 9')\n",
    "    else:\n",
    "        print(f'{x} was not between 10 and 15')\n",
    "\n"
   ]
  },
  {
   "cell_type": "code",
   "execution_count": 70,
   "metadata": {},
   "outputs": [
    {
     "name": "stdout",
     "output_type": "stream",
     "text": [
      "3 fizz\n",
      "5 bang\n",
      "6 fizz\n",
      "9 fizz\n",
      "10 bang\n",
      "12 fizz\n",
      "15 fizz\n",
      "15 bang\n",
      "15 fizzbang\n",
      "18 fizz\n",
      "20 bang\n",
      "21 fizz\n",
      "24 fizz\n",
      "25 bang\n",
      "27 fizz\n",
      "30 fizz\n",
      "30 bang\n",
      "30 fizzbang\n",
      "33 fizz\n",
      "35 bang\n",
      "36 fizz\n",
      "39 fizz\n",
      "40 bang\n",
      "42 fizz\n",
      "45 fizz\n",
      "45 bang\n",
      "45 fizzbang\n",
      "48 fizz\n",
      "50 bang\n",
      "51 fizz\n",
      "54 fizz\n",
      "55 bang\n",
      "57 fizz\n",
      "60 fizz\n",
      "60 bang\n",
      "60 fizzbang\n",
      "63 fizz\n",
      "65 bang\n",
      "66 fizz\n",
      "69 fizz\n",
      "70 bang\n",
      "72 fizz\n",
      "75 fizz\n",
      "75 bang\n",
      "75 fizzbang\n",
      "78 fizz\n",
      "80 bang\n",
      "81 fizz\n",
      "84 fizz\n",
      "85 bang\n",
      "87 fizz\n",
      "90 fizz\n",
      "90 bang\n",
      "90 fizzbang\n",
      "93 fizz\n",
      "95 bang\n",
      "96 fizz\n",
      "99 fizz\n",
      "100 bang\n"
     ]
    }
   ],
   "source": [
    "for numbers in list(range(1,101)):\n",
    "    if numbers <= 101:\n",
    "        if(numbers % 3 == 0):\n",
    "            print(f'{numbers} fizz')\n",
    "    if numbers <= 101:\n",
    "        if(numbers % 5 == 0):\n",
    "            print(f'{numbers} bang')\n",
    "    if numbers <= 101:\n",
    "        if(numbers % 3 == 0) & (numbers % 5 == 0):\n",
    "            print(f'{numbers} fizzbang')"
   ]
  },
  {
   "cell_type": "code",
   "execution_count": null,
   "metadata": {},
   "outputs": [],
   "source": [
    "numbers in list(range(1,101))\n",
    "\n",
    "for number in numbers:\n",
    "     if(numbers % 3 == 0) & (numbers % 5 == 0):\n",
    "        print('fizzbang')\n",
    "    if numbers <= 101:\n",
    "        if(numbers % 5 == 0):\n",
    "            print(f'{numbers} bang')\n",
    "    if numbers <= 101:\n",
    "        if(numbers % 3 == 0) & (numbers % 5 == 0):\n",
    "            print(f'{numbers} fizzbang')"
   ]
  }
 ],
 "metadata": {
  "kernelspec": {
   "display_name": "Python 3",
   "language": "python",
   "name": "python3"
  },
  "language_info": {
   "codemirror_mode": {
    "name": "ipython",
    "version": 3
   },
   "file_extension": ".py",
   "mimetype": "text/x-python",
   "name": "python",
   "nbconvert_exporter": "python",
   "pygments_lexer": "ipython3",
   "version": "3.10.13"
  }
 },
 "nbformat": 4,
 "nbformat_minor": 2
}
